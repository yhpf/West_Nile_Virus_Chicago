{
 "cells": [
  {
   "cell_type": "code",
   "execution_count": 1,
   "metadata": {
    "collapsed": true
   },
   "outputs": [],
   "source": [
    "import pandas as pd\n",
    "from sklearn.model_selection import train_test_split\n",
    "import numpy as np\n",
    "from sklearn.preprocessing import StandardScaler\n",
    "from sklearn.neighbors import KNeighborsClassifier\n",
    "from sklearn.model_selection import GridSearchCV\n",
    "from sklearn.metrics import confusion_matrix\n",
    "from sklearn.metrics import accuracy_score, recall_score\n",
    "\n",
    "\n",
    "X_train_clean = \"./X_train_clean_v1.csv\"\n",
    "\n",
    "X_df = pd.read_csv(X_train_clean)\n",
    "\n",
    "\n",
    "y_train_clean = \"y_train_clean\"\n",
    "\n",
    "y_df = pd.read_csv(y_train_clean, header=None)\n",
    "\n",
    "y_df['Target']=y_df[1].astype(int)\n"
   ]
  },
  {
   "cell_type": "code",
   "execution_count": 2,
   "metadata": {
    "collapsed": true
   },
   "outputs": [],
   "source": [
    "#Create a KNN model\n",
    "\n",
    "# Establish independent and dependent variables\n",
    "X = X_df[['Latitude','Longitude','DayofYear']]\n",
    "y = y_df['Target']\n",
    "    \n",
    "    \n",
    "#Train test split\n",
    "X_train, X_test, y_train, y_test = train_test_split(X,y, test_size=.3, random_state=42)"
   ]
  },
  {
   "cell_type": "code",
   "execution_count": 3,
   "metadata": {
    "collapsed": true
   },
   "outputs": [],
   "source": [
    "#Using smote hear to balance\n",
    "\n",
    "from imblearn.over_sampling import SMOTE\n",
    "\n",
    "sm = SMOTE(random_state=42, ratio = 'minority')\n",
    "X_train_res, y_train_res = sm.fit_sample(X_train, y_train)\n",
    "\n",
    "X_train = X_train_res\n",
    "y_train = y_train_res"
   ]
  },
  {
   "cell_type": "code",
   "execution_count": 4,
   "metadata": {
    "collapsed": true
   },
   "outputs": [],
   "source": [
    "#Second train test split on rebalanced data\n",
    "\n",
    "X_train, X_test, y_train, y_test = train_test_split(X_train,y_train, test_size=.3, random_state=42)\n"
   ]
  },
  {
   "cell_type": "code",
   "execution_count": 5,
   "metadata": {},
   "outputs": [
    {
     "name": "stdout",
     "output_type": "stream",
     "text": [
      "0.8409851745576279\n",
      "0.49928263988522237\n"
     ]
    }
   ],
   "source": [
    "#Regularize/stnadardize your variables \n",
    "ss = StandardScaler()\n",
    "X_train = ss.fit_transform(X_train)\n",
    "X_test = ss.transform(X_test)   \n",
    "\n",
    "#Create model\n",
    "knn = KNeighborsClassifier()\n",
    "knn = knn.fit(X_train, y_train)    \n",
    "\n",
    "print (knn.score(X_test, y_test))\n",
    "print(np.mean(y_test))"
   ]
  },
  {
   "cell_type": "code",
   "execution_count": 6,
   "metadata": {
    "collapsed": true
   },
   "outputs": [],
   "source": [
    "#Function to get stats \n",
    "\n",
    "def evaluate_model(model):\n",
    "   model.fit(X_train, y_train)\n",
    "   y_pred = model.predict(X_test)\n",
    "   cm = confusion_matrix(y_test, y_pred)\n",
    "   print ('confusion matrix', confusion_matrix(y_test, y_pred))\n",
    "   print ('accuracy', accuracy_score(y_test, y_pred))\n",
    "   print ('sensitivity', recall_score(y_test, y_pred))\n",
    "   print ('specificity', cm[1,1]/(cm[1,0]+cm[1,1]))"
   ]
  },
  {
   "cell_type": "code",
   "execution_count": 7,
   "metadata": {},
   "outputs": [
    {
     "name": "stdout",
     "output_type": "stream",
     "text": [
      "confusion matrix [[1720  374]\n",
      " [ 291 1797]]\n",
      "accuracy 0.8409851745576279\n",
      "sensitivity 0.860632183908046\n",
      "specificity 0.860632183908046\n"
     ]
    }
   ],
   "source": [
    "evaluate_model(knn)"
   ]
  },
  {
   "cell_type": "code",
   "execution_count": 8,
   "metadata": {},
   "outputs": [
    {
     "name": "stdout",
     "output_type": "stream",
     "text": [
      "Fitting 5 folds for each of 24 candidates, totalling 120 fits\n"
     ]
    },
    {
     "name": "stderr",
     "output_type": "stream",
     "text": [
      "[Parallel(n_jobs=2)]: Done  46 tasks      | elapsed:    7.1s\n"
     ]
    },
    {
     "name": "stdout",
     "output_type": "stream",
     "text": [
      "{'metric': 'manhattan', 'n_neighbors': 3, 'weights': 'distance'}\n",
      "best score 0.8810988109881098\n"
     ]
    },
    {
     "name": "stderr",
     "output_type": "stream",
     "text": [
      "[Parallel(n_jobs=2)]: Done 117 out of 120 | elapsed:   15.1s remaining:    0.4s\n",
      "[Parallel(n_jobs=2)]: Done 120 out of 120 | elapsed:   15.2s finished\n"
     ]
    }
   ],
   "source": [
    "#Gridsearch\n",
    "\n",
    "knn_params = {\n",
    "    'n_neighbors':[500,3,50,90,15,21],\n",
    "    'weights':['uniform','distance'],\n",
    "    'metric':['euclidean','manhattan']\n",
    "}\n",
    "\n",
    "knn_gridsearch = GridSearchCV(knn, knn_params, cv=5, verbose=1, n_jobs=2)    \n",
    "    \n",
    "knn_gridsearch.fit(X_train, y_train)    \n",
    "    \n",
    "#Property\tUse\n",
    "knn_gridsearch.param_grid #Displays parameters searched over.\n",
    "knn_gridsearch.best_score_ #Best mean cross-validated score achieved.\n",
    "knn_gridsearch.best_estimator_ #Reference to model with best score. Is usable / callable.\n",
    "print (knn_gridsearch.best_params_) #The parameters that have been found to perform with the best score.\n",
    "#knn_gridsearch.grid_scores_ #Display score attributes with corresponding parameters.   \n",
    "\n",
    "\n",
    "print ('best score', knn_gridsearch.best_score_)\n",
    "\n",
    "#Assigning best estimator\n",
    "#best_knn = knn_gridsearch.best_estimator_\n"
   ]
  },
  {
   "cell_type": "code",
   "execution_count": 9,
   "metadata": {
    "collapsed": true
   },
   "outputs": [],
   "source": [
    "#manually input gridsearch results from cell above\n",
    "\n",
    "knn_gs = KNeighborsClassifier(n_neighbors=3, weights=\"distance\", metric=\"manhattan\")\n",
    "knn_gs = knn.fit(X_train, y_train)    "
   ]
  },
  {
   "cell_type": "code",
   "execution_count": 10,
   "metadata": {},
   "outputs": [
    {
     "name": "stdout",
     "output_type": "stream",
     "text": [
      "confusion matrix [[1720  374]\n",
      " [ 291 1797]]\n",
      "accuracy 0.8409851745576279\n",
      "sensitivity 0.860632183908046\n",
      "specificity 0.860632183908046\n"
     ]
    }
   ],
   "source": [
    "evaluate_model(knn_gs)"
   ]
  },
  {
   "cell_type": "code",
   "execution_count": 11,
   "metadata": {},
   "outputs": [
    {
     "data": {
      "text/plain": [
       "0.9160133450068979"
      ]
     },
     "execution_count": 11,
     "metadata": {},
     "output_type": "execute_result"
    }
   ],
   "source": [
    "#AUC,ROC\n",
    "\n",
    "from sklearn.metrics import roc_curve\n",
    "from sklearn.metrics import auc\n",
    "from sklearn.metrics import roc_auc_score\n",
    "\n",
    "proba_pairs = knn.predict_proba(X_test)\n",
    "probas = [item[1] for item in proba_pairs]\n",
    "roc_auc_score(y_test, probas)"
   ]
  },
  {
   "cell_type": "code",
   "execution_count": 12,
   "metadata": {},
   "outputs": [
    {
     "data": {
      "image/png": "[encoded data removed]",
      "text/plain": [
       "<matplotlib.figure.Figure at 0x1a17a3cfd0>"
      ]
     },
     "metadata": {},
     "output_type": "display_data"
    }
   ],
   "source": [
    "import matplotlib.pyplot as plt\n",
    "\n",
    "#fpr = 1 - spec =(1-.86)\n",
    "#tpr = sens = (1-.86)\n",
    "\n",
    "tpr = .14\n",
    "fpr = .14\n",
    "\n",
    "\n",
    "fpr, tpr, threshold = roc_curve(y_test, probas)\n",
    "roc_auc = auc(fpr, tpr)\n",
    "\n",
    "fix, ax = plt.subplots(figsize=(14,10))\n",
    "\n",
    "plt.title('Receiver Operating Characteristic', fontsize=20)\n",
    "plt.plot(fpr, tpr, 'b', label = 'AUC = %0.2f' % roc_auc)\n",
    "plt.legend(loc = 'lower right', fontsize=14)\n",
    "plt.plot([0, 1], [0, 1],'r--')\n",
    "plt.xlim([0, 1])\n",
    "plt.ylim([0, 1])\n",
    "plt.ylabel('True Positive Rate', fontsize=16)\n",
    "plt.xlabel('False Positive Rate', fontsize=16)\n",
    "plt.show()"
   ]
  },
  {
   "cell_type": "code",
   "execution_count": 13,
   "metadata": {
    "collapsed": true
   },
   "outputs": [],
   "source": [
    "#Testing on X_test v1 data\n",
    "\n",
    "X_test_clean = \"./X_test_clean_v1.csv\"\n",
    "\n",
    "X_test_df = pd.read_csv(X_test_clean)"
   ]
  },
  {
   "cell_type": "code",
   "execution_count": 14,
   "metadata": {
    "collapsed": true
   },
   "outputs": [],
   "source": [
    "#Setting X and predicting probs on knn model made earlier\n",
    "\n",
    "X_test_data = X_test_df[['Latitude','Longitude','DayofYear']]\n",
    "\n",
    "kaggle_sub = knn.predict_proba(X_test_data)"
   ]
  },
  {
   "cell_type": "code",
   "execution_count": 15,
   "metadata": {
    "collapsed": true
   },
   "outputs": [],
   "source": [
    "#making dataframe out of probabilities\n",
    "kag_sub_df=pd.DataFrame(kaggle_sub)"
   ]
  },
  {
   "cell_type": "code",
   "execution_count": 16,
   "metadata": {
    "collapsed": true
   },
   "outputs": [],
   "source": [
    "#Creating wnv column from where 1s are in the dataframe\n",
    "\n",
    "kag_sub_df['WnvPresent']=kag_sub_df[[1]]"
   ]
  },
  {
   "cell_type": "code",
   "execution_count": 17,
   "metadata": {},
   "outputs": [
    {
     "data": {
      "text/plain": [
       "0.0"
      ]
     },
     "execution_count": 17,
     "metadata": {},
     "output_type": "execute_result"
    }
   ],
   "source": [
    "kag_sub_df.WnvPresent.sum() #checking how many 1s"
   ]
  },
  {
   "cell_type": "code",
   "execution_count": 18,
   "metadata": {
    "collapsed": true
   },
   "outputs": [],
   "source": [
    "kag_sub_df.drop(labels=[0,1], axis=1, inplace = True) #dropping the other two columns"
   ]
  },
  {
   "cell_type": "code",
   "execution_count": 19,
   "metadata": {
    "collapsed": true
   },
   "outputs": [],
   "source": [
    "kag_sub_df.index += 1  #adjusting index for kaggle submission"
   ]
  },
  {
   "cell_type": "code",
   "execution_count": 20,
   "metadata": {
    "collapsed": true
   },
   "outputs": [],
   "source": [
    "kag_sub_df.to_csv('prj4_kag_sub.csv')  #Creating csv file"
   ]
  },
  {
   "cell_type": "code",
   "execution_count": null,
   "metadata": {
    "collapsed": true
   },
   "outputs": [],
   "source": []
  },
  {
   "cell_type": "code",
   "execution_count": null,
   "metadata": {
    "collapsed": true
   },
   "outputs": [],
   "source": []
  },
  {
   "cell_type": "code",
   "execution_count": null,
   "metadata": {
    "collapsed": true
   },
   "outputs": [],
   "source": []
  }
 ],
 "metadata": {
  "kernelspec": {
   "display_name": "Python [conda env:anaconda3]",
   "language": "python",
   "name": "conda-env-anaconda3-py"
  },
  "language_info": {
   "codemirror_mode": {
    "name": "ipython",
    "version": 3
   },
   "file_extension": ".py",
   "mimetype": "text/x-python",
   "name": "python",
   "nbconvert_exporter": "python",
   "pygments_lexer": "ipython3",
   "version": "3.6.3"
  }
 },
 "nbformat": 4,
 "nbformat_minor": 2
}
